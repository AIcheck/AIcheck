{
 "cells": [
  {
   "cell_type": "code",
   "execution_count": 1,
   "metadata": {},
   "outputs": [],
   "source": [
    "import os\n",
    "import numpy as np\n",
    "import cv2\n",
    "from cv2 import imread, resize, imwrite\n",
    "import matplotlib.pyplot as plt\n",
    "from matplotlib.pyplot import imshow\n",
    "import glob\n",
    "import json"
   ]
  },
  {
   "cell_type": "markdown",
   "metadata": {},
   "source": [
    "## data construct"
   ]
  },
  {
   "cell_type": "code",
   "execution_count": 2,
   "metadata": {},
   "outputs": [],
   "source": [
    "IM_EXTENSIONS = ['png', 'jpg', 'bmp']\n",
    "\n",
    "def load_json(json_path):\n",
    "    \"\"\"\n",
    "    Load json file\n",
    "    \"\"\"\n",
    "    with open(json_path, 'r') as f:\n",
    "        data = json.load(f)\n",
    "    return data\n",
    "\n",
    "def get_best_anchor(anchors, box_wh):\n",
    "    \"\"\"\n",
    "    Select the best anchor with highest IOU\n",
    "    \"\"\"\n",
    "    box_wh = np.array(box_wh)\n",
    "    best_iou = 0\n",
    "    best_anchor = 0\n",
    "    for k, anchor in enumerate(anchors):\n",
    "        intersect_wh = np.maximum(np.minimum(box_wh, anchor), 0.0)\n",
    "        intersect_area = intersect_wh[0] * intersect_wh[1]\n",
    "        box_area = box_wh[0] * box_wh[1]\n",
    "        anchor_area = anchor[0] * anchor[1]\n",
    "        iou = intersect_area / (box_area + anchor_area - intersect_area)\n",
    "        if iou > best_iou:\n",
    "            best_iou = iou\n",
    "            best_anchor = k\n",
    "    return best_anchor"
   ]
  },
  {
   "cell_type": "code",
   "execution_count": 3,
   "metadata": {},
   "outputs": [],
   "source": [
    "def read_data(data_dir, image_size, pixels_per_grid=32, no_label=False):\n",
    "    \"\"\"\n",
    "    Load the data and preprocessing for YOLO detector\n",
    "    :param data_dir: str, path to the directory to read. \n",
    "                     It should include class_map, anchors, annotations\n",
    "    :image_size: tuple, image size for resizing images\n",
    "    :pixels_per_gird: int, the actual size of a grid\n",
    "    :no_label: bool, whetehr to load labels\n",
    "    :return: X_set: np.ndarray, shape: (N, H, W, C).\n",
    "             y_set: np.ndarray, shape: (N, g_H, g_W, anchors, 5 + num_classes).\n",
    "    \"\"\"\n",
    "    im_dir = os.path.join(data_dir, 'images')\n",
    "    class_map_path = os.path.join(data_dir, 'classes.json')\n",
    "    anchors_path = os.path.join(data_dir, 'anchors.json')\n",
    "    class_map = load_json(class_map_path)\n",
    "    anchors = load_json(anchors_path)\n",
    "    num_classes = len(class_map)\n",
    "    grid_h, grid_w = [image_size[i] // pixels_per_grid for i in range(2)]\n",
    "    im_paths = []\n",
    "    for ext in IM_EXTENSIONS:\n",
    "        im_paths.extend(glob.glob(os.path.join(im_dir, '*.{}'.format(ext))))\n",
    "    anno_dir = os.path.join(data_dir, 'annotations')\n",
    "    images = []\n",
    "    labels = []\n",
    "\n",
    "    for im_path in im_paths:\n",
    "        # load image and resize image\n",
    "        im = imread(im_path)\n",
    "        im = np.array(im, dtype=np.float32)\n",
    "        im_origina_sizes = im.shape[:2]\n",
    "        im = resize(im, (image_size[1], image_size[0]))\n",
    "        if len(im.shape) == 2:\n",
    "            im = np.expand_dims(im, 2)\n",
    "            im = np.concatenate([im, im, im], -1)\n",
    "        images.append(im)\n",
    "\n",
    "        if no_label:\n",
    "            labels.append(0)\n",
    "            continue\n",
    "        # load bboxes and reshape for yolo model\n",
    "        name = os.path.splitext(os.path.basename(im_path))[0]\n",
    "        anno_path = os.path.join(anno_dir, '{}.anno'.format(name))\n",
    "        anno = load_json(anno_path)\n",
    "        label = np.zeros((grid_h, grid_w, len(anchors), 5 + num_classes))\n",
    "        for c_idx, c_name in class_map.items():\n",
    "            if c_name not in anno:\n",
    "                continue\n",
    "            for x_min, y_min, x_max, y_max in anno[c_name]:\n",
    "                oh, ow = im_origina_sizes\n",
    "                # normalize object coordinates and clip the values\n",
    "                x_min, y_min, x_max, y_max = x_min / ow, y_min / oh, x_max / ow, y_max / oh\n",
    "                x_min, y_min, x_max, y_max = np.clip([x_min, y_min, x_max, y_max], 0, 1)\n",
    "                # assign the values to the best anchor\n",
    "                anchor_boxes = np.array(anchors) / np.array([ow, oh])\n",
    "                best_anchor = get_best_anchor(\n",
    "                    anchor_boxes, [x_max - x_min, y_max - y_min])\n",
    "                cx = int(np.floor(0.5 * (x_min + x_max) * grid_w))\n",
    "                cy = int(np.floor(0.5 * (y_min + y_max) * grid_h))\n",
    "                label[cy, cx, best_anchor, 0:4] = [x_min, y_min, x_max, y_max]\n",
    "                label[cy, cx, best_anchor, 4] = 1.0\n",
    "                label[cy, cx, best_anchor, 5 + int(c_idx)] = 1.0\n",
    "        labels.append(label)\n",
    "\n",
    "    X_set = np.array(images, dtype=np.float32)\n",
    "    y_set = np.array(labels, dtype=np.float32)\n",
    "\n",
    "    return X_set, y_set"
   ]
  },
  {
   "cell_type": "code",
   "execution_count": 4,
   "metadata": {},
   "outputs": [
    {
     "data": {
      "text/plain": [
       "['png', 'jpg', 'bmp']"
      ]
     },
     "execution_count": 4,
     "metadata": {},
     "output_type": "execute_result"
    }
   ],
   "source": [
    "IM_EXTENSIONS"
   ]
  },
  {
   "cell_type": "code",
   "execution_count": 5,
   "metadata": {},
   "outputs": [],
   "source": [
    "class DataSet(object):\n",
    "\n",
    "    def __init__(self, images, labels=None):\n",
    "        \"\"\"\n",
    "        Construct a new DataSet object.\n",
    "        :param images: np.ndarray, shape: (N, H, W, C)\n",
    "        :param labels: np.ndarray, shape: (N, g_H, g_W, anchors, 5 + num_classes).\n",
    "        \"\"\"\n",
    "        if labels is not None:\n",
    "            assert images.shape[0] == labels.shape[0],\\\n",
    "                ('Number of examples mismatch, between images and labels')\n",
    "        self._num_examples = images.shape[0]\n",
    "        self._images = images\n",
    "        self._labels = labels  # NOTE: this can be None, if not given.\n",
    "        # image/label indices(can be permuted)\n",
    "        self._indices = np.arange(self._num_examples, dtype=np.uint)\n",
    "        self._reset()\n",
    "\n",
    "    def _reset(self):\n",
    "        \"\"\"Reset some variables.\"\"\"\n",
    "        self._epochs_completed = 0\n",
    "        self._index_in_epoch = 0\n",
    "\n",
    "    @property\n",
    "    def images(self):\n",
    "        return self._images\n",
    "\n",
    "    @property\n",
    "    def labels(self):\n",
    "        return self._labels\n",
    "\n",
    "    @property\n",
    "    def num_examples(self):\n",
    "        return self._num_examples\n",
    "\n",
    "    def sample_batch(self, batch_size, shuffle=True):\n",
    "        \"\"\"\n",
    "        Return sample examples from this dataset.\n",
    "        :param batch_size: int, size of a sample batch.\n",
    "        :param shuffle: bool, whether to shuffle the whole set while sampling a batch.\n",
    "        :return: batch_images: np.ndarray, shape: (N, H, W, C)\n",
    "                 batch_labels: np.ndarray, shape: (N, g_H, g_W, anchors, 5 + num_classes)\n",
    "        \"\"\"\n",
    "\n",
    "        if shuffle:\n",
    "            indices = np.random.choice(self._num_examples, batch_size)\n",
    "        else:\n",
    "            indices = np.arange(batch_size)\n",
    "        batch_images = self._images[indices]\n",
    "        if self._labels is not None:\n",
    "            batch_labels = self._labels[indices]\n",
    "        else:\n",
    "            batch_labels = None\n",
    "        return batch_images, batch_labels\n",
    "\n",
    "    def next_batch(self, batch_size, shuffle=True):\n",
    "        \"\"\"\n",
    "        Return the next 'batch_size' examples from this dataset.\n",
    "        :param batch_size: int, size of a single batch.\n",
    "        :param shuffle: bool, whether to shuffle the whole set while sampling a batch.\n",
    "        :return: batch_images: np.ndarray, shape: (N, H, W, C)\n",
    "                 batch_labels: np.ndarray, shape: (N, g_H, g_W, anchors, 5 + num_classes)\n",
    "        \"\"\"\n",
    "\n",
    "        start_index = self._index_in_epoch\n",
    "\n",
    "        # Shuffle the dataset, for the first epoch\n",
    "        if self._epochs_completed == 0 and start_index == 0 and shuffle:\n",
    "            np.random.shuffle(self._indices)\n",
    "\n",
    "        # Go to the next epoch, if current index goes beyond the total number\n",
    "        # of examples\n",
    "        if start_index + batch_size > self._num_examples:\n",
    "            # Increment the number of epochs completed\n",
    "            self._epochs_completed += 1\n",
    "            # Get the rest examples in this epoch\n",
    "            rest_num_examples = self._num_examples - start_index\n",
    "            indices_rest_part = self._indices[start_index:self._num_examples]\n",
    "\n",
    "            # Shuffle the dataset, after finishing a single epoch\n",
    "            if shuffle:\n",
    "                np.random.shuffle(self._indices)\n",
    "\n",
    "            # Start the next epoch\n",
    "            start_index = 0\n",
    "            self._index_in_epoch = batch_size - rest_num_examples\n",
    "            end_index = self._index_in_epoch\n",
    "            indices_new_part = self._indices[start_index:end_index]\n",
    "\n",
    "            images_rest_part = self._images[indices_rest_part]\n",
    "            images_new_part = self._images[indices_new_part]\n",
    "            batch_images = np.concatenate(\n",
    "                (images_rest_part, images_new_part), axis=0)\n",
    "            if self._labels is not None:\n",
    "                labels_rest_part = self._labels[indices_rest_part]\n",
    "                labels_new_part = self._labels[indices_new_part]\n",
    "                batch_labels = np.concatenate(\n",
    "                    (labels_rest_part, labels_new_part), axis=0)\n",
    "            else:\n",
    "                batch_labels = None\n",
    "        else:\n",
    "            self._index_in_epoch += batch_size\n",
    "            end_index = self._index_in_epoch\n",
    "            indices = self._indices[start_index:end_index]\n",
    "            batch_images = self._images[indices]\n",
    "            if self._labels is not None:\n",
    "                batch_labels = self._labels[indices]\n",
    "            else:\n",
    "                batch_labels = None\n",
    "\n",
    "        return batch_images, batch_labels"
   ]
  },
  {
   "cell_type": "code",
   "execution_count": 6,
   "metadata": {},
   "outputs": [],
   "source": [
    "# set paths\n",
    "root_dir = os.path.join('data/face/')\n",
    "trainval_dir = os.path.join(root_dir, 'train')\n",
    "test_dir = os.path.join(root_dir, 'test')\n",
    "anchors = load_json(os.path.join(trainval_dir, 'anchors.json'))\n",
    "class_map = load_json(os.path.join(trainval_dir, 'classes.json'))\n",
    "\n",
    "# set hyperparameters for data\n",
    "IM_SIZE = (416, 416)\n",
    "NUM_CLASSES = 1\n",
    "VALID_RATIO = 0.1"
   ]
  },
  {
   "cell_type": "code",
   "execution_count": 63,
   "metadata": {},
   "outputs": [],
   "source": [
    "#채진이 얼굴 테스트하기\n",
    "# set paths\n",
    "# #채진 클래스\n",
    "# root_dir_cj = os.path.join('data/Chea_jin/')\n",
    "# trainval_dir_cj = os.path.join(root_dir, 'train')\n",
    "# test_dir_cj = os.path.join(root_dir, 'test')\n",
    "# anchors_cj = load_json(os.path.join(trainval_dir, 'anchors.json'))\n",
    "# class_map_cj = load_json(os.path.join(trainval_dir, 'classes.json'))\n",
    "\n",
    "# #민수 클래스\n",
    "# root_dir = os.path.join('data/Chea_jin/')\n",
    "# trainval_dir = os.path.join(root_dir, 'train')\n",
    "# test_dir = os.path.join(root_dir, 'test_img')\n",
    "# anchors = load_json(os.path.join(trainval_dir, 'anchors.json'))\n",
    "# class_map = load_json(os.path.join(trainval_dir, 'classes.json'))\n",
    "\n",
    "# #장호 클래스\n",
    "# root_dir = os.path.join('data/Chea_jin/')\n",
    "# trainval_dir = os.path.join(root_dir, 'train')\n",
    "# test_dir = os.path.join(root_dir, 'test_img')\n",
    "# anchors = load_json(os.path.join(trainval_dir, 'anchors.json'))\n",
    "# class_map = load_json(os.path.join(trainval_dir, 'classes.json'))\n",
    "\n",
    "# #강주 클래스\n",
    "# root_dir = os.path.join('data/Chea_jin/')\n",
    "# trainval_dir = os.path.join(root_dir, 'train')\n",
    "# test_dir = os.path.join(root_dir, 'test_img')\n",
    "# anchors = load_json(os.path.join(trainval_dir, 'anchors.json'))\n",
    "# class_map = load_json(os.path.join(trainval_dir, 'classes.json'))\n",
    "\n",
    "# #정윤 클래스\n",
    "# root_dir = os.path.join('data/Chea_jin/')\n",
    "# trainval_dir = os.path.join(root_dir, 'train')\n",
    "# test_dir = os.path.join(root_dir, 'test_img')\n",
    "# anchors = load_json(os.path.join(trainval_dir, 'anchors.json'))\n",
    "# class_map = load_json(os.path.join(trainval_dir, 'classes.json'))\n",
    "\n",
    "# #unknown 클래스\n",
    "# root_dir = os.path.join('data/Chea_jin/')\n",
    "# trainval_dir = os.path.join(root_dir, 'train')\n",
    "# test_dir = os.path.join(root_dir, 'test_img')\n",
    "# anchors = load_json(os.path.join(trainval_dir, 'anchors.json'))\n",
    "# class_map = load_json(os.path.join(trainval_dir, 'classes.json'))\n",
    "\n",
    "# set hyperparameters for data\n",
    "IM_SIZE = (416, 416)\n",
    "NUM_CLASSES = 1\n",
    "VALID_RATIO = 0.1"
   ]
  },
  {
   "cell_type": "code",
   "execution_count": 64,
   "metadata": {},
   "outputs": [],
   "source": [
    "X_test_img, y_test_img = read_data(test_dir, IM_SIZE)\n",
    "test_img_size = X_test_img.shape[0]\n",
    "val_size = int(test_img_size * VALID_RATIO)\n",
    "val_set = DataSet(X_test_img[:val_size], y_test_img[:val_size])\n",
    "train_set = DataSet(X_test_img[val_size:], y_test_img[val_size:])"
   ]
  },
  {
   "cell_type": "code",
   "execution_count": 9,
   "metadata": {},
   "outputs": [],
   "source": [
    "# X_trainval, y_trainval = read_data(trainval_dir, IM_SIZE)\n",
    "# trainval_size = X_trainval.shape[0]\n",
    "# val_size = int(trainval_size * VALID_RATIO)\n",
    "# val_set = DataSet(X_trainval[:val_size], y_trainval[:val_size])\n",
    "# train_set = DataSet(X_trainval[val_size:], y_trainval[val_size:])"
   ]
  },
  {
   "cell_type": "code",
   "execution_count": 10,
   "metadata": {},
   "outputs": [],
   "source": [
    "# X_train, y_train = read_data(trainval_dir, IM_SIZE)\n",
    "# test_set = DataSet(X_train, y_train)"
   ]
  },
  {
   "cell_type": "code",
   "execution_count": 65,
   "metadata": {},
   "outputs": [],
   "source": [
    "X_train, y_train = read_data(test_dir, IM_SIZE)\n",
    "test_set = DataSet(X_train, y_train)"
   ]
  },
  {
   "cell_type": "markdown",
   "metadata": {},
   "source": [
    "## 신경망 구축"
   ]
  },
  {
   "cell_type": "code",
   "execution_count": 12,
   "metadata": {
    "scrolled": true
   },
   "outputs": [
    {
     "name": "stderr",
     "output_type": "stream",
     "text": [
      "C:\\Users\\COM\\Anaconda3\\lib\\site-packages\\tensorflow\\python\\framework\\dtypes.py:516: FutureWarning: Passing (type, 1) or '1type' as a synonym of type is deprecated; in a future version of numpy, it will be understood as (type, (1,)) / '(1,)type'.\n",
      "  _np_qint8 = np.dtype([(\"qint8\", np.int8, 1)])\n",
      "C:\\Users\\COM\\Anaconda3\\lib\\site-packages\\tensorflow\\python\\framework\\dtypes.py:517: FutureWarning: Passing (type, 1) or '1type' as a synonym of type is deprecated; in a future version of numpy, it will be understood as (type, (1,)) / '(1,)type'.\n",
      "  _np_quint8 = np.dtype([(\"quint8\", np.uint8, 1)])\n",
      "C:\\Users\\COM\\Anaconda3\\lib\\site-packages\\tensorflow\\python\\framework\\dtypes.py:518: FutureWarning: Passing (type, 1) or '1type' as a synonym of type is deprecated; in a future version of numpy, it will be understood as (type, (1,)) / '(1,)type'.\n",
      "  _np_qint16 = np.dtype([(\"qint16\", np.int16, 1)])\n",
      "C:\\Users\\COM\\Anaconda3\\lib\\site-packages\\tensorflow\\python\\framework\\dtypes.py:519: FutureWarning: Passing (type, 1) or '1type' as a synonym of type is deprecated; in a future version of numpy, it will be understood as (type, (1,)) / '(1,)type'.\n",
      "  _np_quint16 = np.dtype([(\"quint16\", np.uint16, 1)])\n",
      "C:\\Users\\COM\\Anaconda3\\lib\\site-packages\\tensorflow\\python\\framework\\dtypes.py:520: FutureWarning: Passing (type, 1) or '1type' as a synonym of type is deprecated; in a future version of numpy, it will be understood as (type, (1,)) / '(1,)type'.\n",
      "  _np_qint32 = np.dtype([(\"qint32\", np.int32, 1)])\n",
      "C:\\Users\\COM\\Anaconda3\\lib\\site-packages\\tensorflow\\python\\framework\\dtypes.py:525: FutureWarning: Passing (type, 1) or '1type' as a synonym of type is deprecated; in a future version of numpy, it will be understood as (type, (1,)) / '(1,)type'.\n",
      "  np_resource = np.dtype([(\"resource\", np.ubyte, 1)])\n",
      "C:\\Users\\COM\\Anaconda3\\lib\\site-packages\\tensorboard\\compat\\tensorflow_stub\\dtypes.py:541: FutureWarning: Passing (type, 1) or '1type' as a synonym of type is deprecated; in a future version of numpy, it will be understood as (type, (1,)) / '(1,)type'.\n",
      "  _np_qint8 = np.dtype([(\"qint8\", np.int8, 1)])\n",
      "C:\\Users\\COM\\Anaconda3\\lib\\site-packages\\tensorboard\\compat\\tensorflow_stub\\dtypes.py:542: FutureWarning: Passing (type, 1) or '1type' as a synonym of type is deprecated; in a future version of numpy, it will be understood as (type, (1,)) / '(1,)type'.\n",
      "  _np_quint8 = np.dtype([(\"quint8\", np.uint8, 1)])\n",
      "C:\\Users\\COM\\Anaconda3\\lib\\site-packages\\tensorboard\\compat\\tensorflow_stub\\dtypes.py:543: FutureWarning: Passing (type, 1) or '1type' as a synonym of type is deprecated; in a future version of numpy, it will be understood as (type, (1,)) / '(1,)type'.\n",
      "  _np_qint16 = np.dtype([(\"qint16\", np.int16, 1)])\n",
      "C:\\Users\\COM\\Anaconda3\\lib\\site-packages\\tensorboard\\compat\\tensorflow_stub\\dtypes.py:544: FutureWarning: Passing (type, 1) or '1type' as a synonym of type is deprecated; in a future version of numpy, it will be understood as (type, (1,)) / '(1,)type'.\n",
      "  _np_quint16 = np.dtype([(\"quint16\", np.uint16, 1)])\n",
      "C:\\Users\\COM\\Anaconda3\\lib\\site-packages\\tensorboard\\compat\\tensorflow_stub\\dtypes.py:545: FutureWarning: Passing (type, 1) or '1type' as a synonym of type is deprecated; in a future version of numpy, it will be understood as (type, (1,)) / '(1,)type'.\n",
      "  _np_qint32 = np.dtype([(\"qint32\", np.int32, 1)])\n",
      "C:\\Users\\COM\\Anaconda3\\lib\\site-packages\\tensorboard\\compat\\tensorflow_stub\\dtypes.py:550: FutureWarning: Passing (type, 1) or '1type' as a synonym of type is deprecated; in a future version of numpy, it will be understood as (type, (1,)) / '(1,)type'.\n",
      "  np_resource = np.dtype([(\"resource\", np.ubyte, 1)])\n"
     ]
    }
   ],
   "source": [
    "import tensorflow as tf"
   ]
  },
  {
   "cell_type": "code",
   "execution_count": 13,
   "metadata": {},
   "outputs": [],
   "source": [
    "def conv_layer(x, filters, kernel_size, strides, padding='SAME', use_bias=True, **kwargs):\n",
    "    weights_stddev = kwargs.pop('weights_stddev', 0.01)\n",
    "    return tf.layers.conv2d(\n",
    "        x,            \n",
    "        filters,\n",
    "        kernel_size, \n",
    "        strides, \n",
    "        padding, \n",
    "        kernel_initializer=tf.random_normal_initializer(stddev=weights_stddev), \n",
    "        use_bias=use_bias\n",
    "    )\n",
    "\n",
    "def batchNormalization(x, is_train):\n",
    "    \"\"\"\n",
    "    Add a new batchNormalization layer.\n",
    "    :param x: tf.Tensor, shape: (N, H, W, C) or (N, D)\n",
    "    :param is_train: tf.placeholder(bool), if True, train mode, else, test mode\n",
    "    :return: tf.Tensor.\n",
    "    \"\"\"\n",
    "    return tf.layers.batch_normalization(\n",
    "        x, \n",
    "        training=is_train, \n",
    "        momentum=0.99, \n",
    "        epsilon=0.001, \n",
    "        center=True, \n",
    "        scale=True\n",
    "    )\n",
    "\n",
    "def conv_bn_relu(x, filters, kernel_size, is_train, strides=(1, 1), padding='SAME', relu=True):\n",
    "    \"\"\"\n",
    "    Add conv + bn + Relu layers.\n",
    "    see conv_layer and batchNormalization function\n",
    "    \"\"\"\n",
    "    conv = conv_layer(x, filters, kernel_size, strides, padding, use_bias=False)\n",
    "    bn = batchNormalization(conv, is_train)\n",
    "    if relu:\n",
    "        return tf.nn.leaky_relu(bn, alpha=0.1)\n",
    "    else:\n",
    "        return bn\n",
    "\n",
    "def max_pool(x, side_l, stride, padding='SAME'):\n",
    "    \"\"\"\n",
    "    Performs max pooling on given input.\n",
    "    :param x: tf.Tensor, shape: (N, H, W, C).\n",
    "    :param side_l: int, the side length of the pooling window for each dimension.\n",
    "    :param stride: int, the stride of the sliding window for each dimension.\n",
    "    :param padding: str, either 'SAME' or 'VALID',\n",
    "                         the type of padding algorithm to use.\n",
    "    :return: tf.Tensor.\n",
    "    \"\"\"\n",
    "    return tf.nn.max_pool(x, ksize=[1, side_l, side_l, 1],\n",
    "                          strides=[1, stride, stride, 1], padding=padding)"
   ]
  },
  {
   "cell_type": "code",
   "execution_count": 14,
   "metadata": {},
   "outputs": [],
   "source": [
    "input_shape = list(IM_SIZE) + [3]\n",
    "num_classes = NUM_CLASSES\n",
    "grid_size = [x // 32 for x in input_shape[:2]]\n",
    "num_anchors = len(anchors)\n",
    "\n",
    "# Prepare Input\n",
    "X = tf.placeholder(tf.float32, [None] + input_shape)\n",
    "y = tf.placeholder(tf.float32, [None] + grid_size + [num_anchors] + [5 + num_classes])\n",
    "is_train = tf.placeholder(tf.bool)"
   ]
  },
  {
   "cell_type": "code",
   "execution_count": 15,
   "metadata": {},
   "outputs": [],
   "source": [
    "# init build graph\n",
    "graph = tf.get_default_graph()\n",
    "config = tf.ConfigProto()\n",
    "config.gpu_options.allow_growth = True"
   ]
  },
  {
   "cell_type": "code",
   "execution_count": 16,
   "metadata": {},
   "outputs": [
    {
     "name": "stdout",
     "output_type": "stream",
     "text": [
      "WARNING:tensorflow:From <ipython-input-13-3206e1611ec1>:10: conv2d (from tensorflow.python.layers.convolutional) is deprecated and will be removed in a future version.\n",
      "Instructions for updating:\n",
      "Use `tf.keras.layers.Conv2D` instead.\n",
      "WARNING:tensorflow:From <ipython-input-13-3206e1611ec1>:26: batch_normalization (from tensorflow.python.layers.normalization) is deprecated and will be removed in a future version.\n",
      "Instructions for updating:\n",
      "Use keras.layers.BatchNormalization instead.  In particular, `tf.control_dependencies(tf.GraphKeys.UPDATE_OPS)` should not be used (consult the `tf.keras.layers.batch_normalization` documentation).\n"
     ]
    }
   ],
   "source": [
    "d = dict()\n",
    "\n",
    "#conv1 - batch_norm1 - leaky_relu1 - pool1\n",
    "with tf.variable_scope('layer1'):\n",
    "    d['conv1'] = conv_bn_relu(X, 32, (3, 3), is_train)\n",
    "    d['pool1'] = max_pool(d['conv1'], 2, 2, padding='SAME')\n",
    "# (416, 416, 3) --> (208, 208, 32)\n",
    "\n",
    "#conv2 - batch_norm2 - leaky_relu2 - pool2\n",
    "with tf.variable_scope('layer2'):\n",
    "    d['conv2'] = conv_bn_relu(d['pool1'], 64, (3, 3), is_train)\n",
    "    d['pool2'] = max_pool(d['conv2'], 2, 2, padding='SAME')\n",
    "# (208, 208, 32) --> (104, 104, 64)\n",
    "\n",
    "#conv3 - batch_norm3 - leaky_relu3\n",
    "with tf.variable_scope('layer3'):\n",
    "    d['conv3'] = conv_bn_relu(d['pool2'], 128, (3, 3), is_train)\n",
    "# (104, 104, 64) --> (104, 104, 128)\n",
    "\n",
    "#conv4 - batch_norm4 - leaky_relu4\n",
    "with tf.variable_scope('layer4'):\n",
    "    d['conv4'] = conv_bn_relu(d['conv3'], 64, (1, 1), is_train)\n",
    "# (104, 104, 128) --> (104, 104, 64)\n",
    "\n",
    "#conv5 - batch_norm5 - leaky_relu5 - pool5\n",
    "with tf.variable_scope('layer5'):\n",
    "    d['conv5'] = conv_bn_relu(d['conv4'], 128, (3, 3), is_train)\n",
    "    d['pool5'] = max_pool(d['conv5'], 2, 2, padding='SAME')\n",
    "# (104, 104, 64) --> (52, 52, 128)\n",
    "\n",
    "#conv6 - batch_norm6 - leaky_relu6\n",
    "with tf.variable_scope('layer6'):\n",
    "    d['conv6'] = conv_bn_relu(d['pool5'], 256, (3, 3), is_train)\n",
    "# (52, 52, 128) --> (52, 52, 256)\n",
    "\n",
    "#conv7 - batch_norm7 - leaky_relu7\n",
    "with tf.variable_scope('layer7'):\n",
    "    d['conv7'] = conv_bn_relu(d['conv6'], 128, (1, 1), is_train)\n",
    "# (52, 52, 256) --> (52, 52, 128)\n",
    "\n",
    "#conv8 - batch_norm8 - leaky_relu8 - pool8\n",
    "with tf.variable_scope('layer8'):\n",
    "    d['conv8'] = conv_bn_relu(d['conv7'], 256, (3, 3), is_train)\n",
    "    d['pool8'] = max_pool(d['conv8'], 2, 2, padding='SAME')\n",
    "# (52, 52, 128) --> (26, 26, 256)\n",
    "\n",
    "#conv9 - batch_norm9 - leaky_relu9\n",
    "with tf.variable_scope('layer9'):\n",
    "    d['conv9'] = conv_bn_relu(d['pool8'], 512, (3, 3), is_train)\n",
    "# (26, 26, 256) --> (26, 26, 512)\n",
    "\n",
    "#conv10 - batch_norm10 - leaky_relu10\n",
    "with tf.variable_scope('layer10'):\n",
    "    d['conv10'] = conv_bn_relu(d['conv9'], 256, (1, 1), is_train)\n",
    "# (26, 26, 512) --> (26, 26, 256)\n",
    "\n",
    "#conv11 - batch_norm11 - leaky_relu11\n",
    "with tf.variable_scope('layer11'):\n",
    "    d['conv11'] = conv_bn_relu(d['conv10'], 512, (3, 3), is_train)\n",
    "# (26, 26, 256) --> (26, 26, 512)\n",
    "\n",
    "#conv12 - batch_norm12 - leaky_relu12\n",
    "with tf.variable_scope('layer12'):\n",
    "    d['conv12'] = conv_bn_relu(d['conv11'], 256, (1, 1), is_train)\n",
    "# (26, 26, 512) --> (26, 26, 256)\n",
    "\n",
    "#conv13 - batch_norm13 - leaky_relu13 - pool13\n",
    "with tf.variable_scope('layer13'):\n",
    "    d['conv13'] = conv_bn_relu(d['conv12'], 512, (3, 3), is_train)\n",
    "    d['pool13'] = max_pool(d['conv13'], 2, 2, padding='SAME')\n",
    "# (26, 26, 256) --> (13, 13, 512)\n",
    "\n",
    "#conv14 - batch_norm14 - leaky_relu14\n",
    "with tf.variable_scope('layer14'):\n",
    "    d['conv14'] = conv_bn_relu(d['pool13'], 1024, (3, 3), is_train)\n",
    "# (13, 13, 512) --> (13, 13, 1024)\n",
    "\n",
    "#conv15 - batch_norm15 - leaky_relu15\n",
    "with tf.variable_scope('layer15'):\n",
    "    d['conv15'] = conv_bn_relu(d['conv14'], 512, (1, 1), is_train)\n",
    "# (13, 13, 1024) --> (13, 13, 512)\n",
    "\n",
    "#conv16 - batch_norm16 - leaky_relu16\n",
    "with tf.variable_scope('layer16'):\n",
    "    d['conv16'] = conv_bn_relu(d['conv15'], 1024, (3, 3), is_train)\n",
    "# (13, 13, 512) --> (13, 13, 1024)\n",
    "\n",
    "#conv17 - batch_norm16 - leaky_relu17\n",
    "with tf.variable_scope('layer17'):\n",
    "    d['conv17'] = conv_bn_relu(d['conv16'], 512, (1, 1), is_train)\n",
    "# (13, 13, 1024) --> (13, 13, 512)\n",
    "\n",
    "#conv18 - batch_norm18 - leaky_relu18\n",
    "with tf.variable_scope('layer18'):\n",
    "    d['conv18'] = conv_bn_relu(d['conv17'], 1024, (3, 3), is_train)\n",
    "# (13, 13, 512) --> (13, 13, 1024)\n",
    "\n",
    "#conv19 - batch_norm19 - leaky_relu19\n",
    "with tf.variable_scope('layer19'):\n",
    "    d['conv19'] = conv_bn_relu(d['conv18'], 1024, (3, 3), is_train)\n",
    "# (13, 13, 1024) --> (13, 13, 1024)\n",
    "\n",
    "#Detection Layer\n",
    "#conv20 - batch_norm20 - leaky_relu20\n",
    "with tf.variable_scope('layer20'):\n",
    "    d['conv20'] = conv_bn_relu(d['conv19'], 1024, (3, 3), is_train)\n",
    "# (13, 13, 1024) --> (13, 13, 1024)\n",
    "\n",
    "# concatenate layer20 and layer 13 using space to depth\n",
    "with tf.variable_scope('layer21'):\n",
    "    d['skip_connection'] = conv_bn_relu(d['conv13'], 64, (1, 1), is_train)\n",
    "    d['skip_space_to_depth_x2'] = tf.space_to_depth(\n",
    "        d['skip_connection'], block_size=2)\n",
    "    d['concat21'] = tf.concat(\n",
    "        [d['skip_space_to_depth_x2'], d['conv20']], axis=-1)\n",
    "# (13, 13, 1024) --> (13, 13, 256+1024)\n",
    "\n",
    "#conv22 - batch_norm22 - leaky_relu22\n",
    "with tf.variable_scope('layer22'):\n",
    "    d['conv22'] = conv_bn_relu(d['concat21'], 1024, (3, 3), is_train)\n",
    "# (13, 13, 1280) --> (13, 13, 1024)\n",
    "\n",
    "with tf.variable_scope('output_layer'):\n",
    "    output_channel = num_anchors * (5 + num_classes)\n",
    "    d['logits'] = conv_layer(d['conv22'], output_channel, (1, 1), (1, 1),\n",
    "                            padding='SAME', use_bias=True)\n",
    "    d['pred'] = tf.reshape(\n",
    "        d['logits'], (-1, grid_size[0], grid_size[1], num_anchors, 5 + num_classes))\n",
    "# (13, 13, 1024) --> (13, 13, num_anchors , (5 + num_classes))"
   ]
  },
  {
   "cell_type": "code",
   "execution_count": 17,
   "metadata": {},
   "outputs": [],
   "source": [
    "logits = d['logits']\n",
    "pred = d['pred']"
   ]
  },
  {
   "cell_type": "code",
   "execution_count": 18,
   "metadata": {},
   "outputs": [
    {
     "name": "stdout",
     "output_type": "stream",
     "text": [
      "WARNING:tensorflow:From <ipython-input-18-4e1d1c115b42>:28: add_dispatch_support.<locals>.wrapper (from tensorflow.python.ops.array_ops) is deprecated and will be removed in a future version.\n",
      "Instructions for updating:\n",
      "Use tf.where in 2.0, which has the same broadcast rule as np.where\n"
     ]
    }
   ],
   "source": [
    "loss_weights = [5, 5, 5, 0.5, 1.0]\n",
    "\n",
    "grid_h, grid_w = grid_size\n",
    "grid_wh = np.reshape([grid_w, grid_h], [1, 1, 1, 1, 2]).astype(np.float32)\n",
    "cxcy = np.transpose([np.tile(np.arange(grid_w), grid_h), \n",
    "                     np.repeat(np.arange(grid_h), grid_h)])\n",
    "cxcy = np.reshape(cxcy, (1, grid_h, grid_w, 1, 2))\n",
    "\n",
    "txty, twth = pred[..., 0:2], pred[..., 2:4]\n",
    "confidence = tf.sigmoid(pred[..., 4:5])\n",
    "class_probs = tf.nn.softmax(pred[..., 5:], axis=-1)\\\n",
    "            if num_classes > 1 else tf.sigmoid(pred[..., 5:])\n",
    "bxby = tf.sigmoid(txty) + cxcy\n",
    "pwph = np.reshape(anchors, (1, 1, 1, num_anchors, 2)) / 32\n",
    "bwbh = tf.exp(twth) * pwph\n",
    "\n",
    "# calculating for prediction\n",
    "nxny, nwnh = bxby / grid_wh, bwbh / grid_wh\n",
    "nx1ny1, nx2ny2 = nxny - 0.5 * nwnh, nxny + 0.5 * nwnh\n",
    "pred_y = tf.concat((nx1ny1, nx2ny2, confidence, class_probs), axis=-1)\n",
    "\n",
    "# calculating IoU for metric\n",
    "num_objects = tf.reduce_sum(y[..., 4:5], axis=[1, 2, 3, 4])\n",
    "max_nx1ny1 = tf.maximum(y[..., 0:2], nx1ny1)\n",
    "min_nx2ny2 = tf.minimum(y[..., 2:4], nx2ny2)\n",
    "intersect_wh = tf.maximum(min_nx2ny2 - max_nx1ny1, 0.0)\n",
    "intersect_area = tf.reduce_prod(intersect_wh, axis=-1)\n",
    "intersect_area = tf.where(\n",
    "    tf.equal(intersect_area, 0.0), tf.zeros_like(intersect_area), intersect_area)\n",
    "gt_box_area = tf.reduce_prod(y[..., 2:4] - y[..., 0:2], axis=-1)\n",
    "box_area = tf.reduce_prod(nx2ny2 - nx1ny1, axis=-1)\n",
    "iou = tf.truediv(intersect_area, (gt_box_area + box_area - intersect_area))\n",
    "\n",
    "gt_bxby = 0.5 * (y[..., 0:2] + y[..., 2:4]) * grid_wh\n",
    "gt_bwbh = (y[..., 2:4] - y[..., 0:2]) * grid_wh\n",
    "\n",
    "resp_mask = y[..., 4:5]\n",
    "no_resp_mask = 1.0 - resp_mask\n",
    "#gt_confidence = resp_mask * tf.expand_dims(iou, axis=-1)\n",
    "gt_confidence = resp_mask\n",
    "gt_class_probs = y[..., 5:]\n",
    "\n",
    "loss_bxby = loss_weights[0] * resp_mask * tf.square(gt_bxby - bxby)\n",
    "loss_bwbh = loss_weights[1] * resp_mask * tf.square(tf.sqrt(gt_bwbh) - tf.sqrt(bwbh))\n",
    "loss_resp_conf = loss_weights[2] * resp_mask * tf.square(gt_confidence - confidence)\n",
    "loss_no_resp_conf = loss_weights[3] * no_resp_mask * tf.square(gt_confidence - confidence)\n",
    "loss_class_probs = loss_weights[4] * resp_mask * tf.square(gt_class_probs - class_probs)\n",
    "\n",
    "merged_loss = tf.concat((\n",
    "                        loss_bxby,\n",
    "                        loss_bwbh,\n",
    "                        loss_resp_conf,\n",
    "                        loss_no_resp_conf,\n",
    "                        loss_class_probs\n",
    "                        ),\n",
    "                        axis=-1)\n",
    "total_loss = tf.reduce_sum(merged_loss, axis=-1)\n",
    "total_loss = tf.reduce_mean(total_loss)"
   ]
  },
  {
   "cell_type": "markdown",
   "metadata": {},
   "source": [
    "## train 학습"
   ]
  },
  {
   "cell_type": "code",
   "execution_count": 19,
   "metadata": {},
   "outputs": [],
   "source": [
    "from learning.utils import convert_boxes, predict_nms_boxes, cal_recall"
   ]
  },
  {
   "cell_type": "code",
   "execution_count": 20,
   "metadata": {},
   "outputs": [],
   "source": [
    "def score(y_true, y_pred, **kwargs):\n",
    "    \"\"\"Compute Recall for a given predicted bboxes\"\"\"\n",
    "    nms_flag = kwargs.pop('nms_flag', True)\n",
    "    if nms_flag:\n",
    "        bboxes = predict_nms_boxes(y_pred)\n",
    "    else:\n",
    "        bboxes = convert_boxes(y_pred)\n",
    "    gt_bboxes = convert_boxes(y_true)\n",
    "    score = cal_recall(gt_bboxes, bboxes)\n",
    "    return score\n",
    "\n",
    "def predict(sess, dataset, **kwargs):\n",
    "    batch_size = kwargs.pop('batch_size', 16)\n",
    "    pred_size = dataset.num_examples\n",
    "    num_steps = pred_size // batch_size\n",
    "    flag = int(bool(pred_size % batch_size))\n",
    "    # Start prediction loop\n",
    "    _y_pred = []\n",
    "    for i in range(num_steps + flag):\n",
    "        if i == num_steps and flag:\n",
    "            _batch_size = pred_size - num_steps * batch_size\n",
    "        else:\n",
    "            _batch_size = batch_size\n",
    "        X_true, _ = dataset.next_batch(_batch_size, shuffle=False)\n",
    "\n",
    "        # Compute predictions\n",
    "        y_pred = sess.run(pred_y, feed_dict={\n",
    "                          X: X_true, is_train: False})\n",
    "\n",
    "        _y_pred.append(y_pred)\n",
    "    _y_pred = np.concatenate(_y_pred, axis=0)\n",
    "    return _y_pred"
   ]
  },
  {
   "cell_type": "code",
   "execution_count": 21,
   "metadata": {},
   "outputs": [],
   "source": [
    "sess = tf.Session(graph=graph, config=config)\n",
    "saver = tf.train.Saver()"
   ]
  },
  {
   "cell_type": "code",
   "execution_count": 22,
   "metadata": {},
   "outputs": [],
   "source": [
    "# Set hyperparameters for training\n",
    "batch_size = 2\n",
    "num_epochs = 5\n",
    "learning_rate = 1e-5\n",
    "eps = 1e-3\n",
    "num_eval = 128"
   ]
  },
  {
   "cell_type": "code",
   "execution_count": 23,
   "metadata": {},
   "outputs": [],
   "source": [
    "extra_update_ops = tf.get_collection(tf.GraphKeys.UPDATE_OPS)\n",
    "update_vars = tf.trainable_variables()\n",
    "with tf.control_dependencies(extra_update_ops):\n",
    "    train_op = tf.train.AdamOptimizer(learning_rate=learning_rate).\\\n",
    "                minimize(total_loss, var_list=update_vars)"
   ]
  },
  {
   "cell_type": "code",
   "execution_count": 24,
   "metadata": {},
   "outputs": [],
   "source": [
    "sess.run(tf.global_variables_initializer())"
   ]
  },
  {
   "cell_type": "code",
   "execution_count": 25,
   "metadata": {},
   "outputs": [],
   "source": [
    "train_size = train_set.num_examples\n",
    "num_steps_per_epoch = train_size // batch_size\n",
    "num_steps = num_epochs * num_steps_per_epoch"
   ]
  },
  {
   "cell_type": "code",
   "execution_count": 22,
   "metadata": {},
   "outputs": [
    {
     "ename": "KeyboardInterrupt",
     "evalue": "",
     "output_type": "error",
     "traceback": [
      "\u001b[1;31m---------------------------------------------------------------------------\u001b[0m",
      "\u001b[1;31mKeyboardInterrupt\u001b[0m                         Traceback (most recent call last)",
      "\u001b[1;32m<ipython-input-22-42239605a505>\u001b[0m in \u001b[0;36m<module>\u001b[1;34m()\u001b[0m\n\u001b[0;32m      6\u001b[0m     \u001b[0mX_true\u001b[0m\u001b[1;33m,\u001b[0m \u001b[0my_true\u001b[0m \u001b[1;33m=\u001b[0m \u001b[0mtrain_set\u001b[0m\u001b[1;33m.\u001b[0m\u001b[0mnext_batch\u001b[0m\u001b[1;33m(\u001b[0m\u001b[0mbatch_size\u001b[0m\u001b[1;33m,\u001b[0m \u001b[0mshuffle\u001b[0m\u001b[1;33m=\u001b[0m\u001b[1;32mTrue\u001b[0m\u001b[1;33m)\u001b[0m\u001b[1;33m\u001b[0m\u001b[1;33m\u001b[0m\u001b[0m\n\u001b[0;32m      7\u001b[0m     _, loss, y_pred = sess.run([train_op, total_loss, pred_y],\n\u001b[1;32m----> 8\u001b[1;33m                               feed_dict={X:X_true, y: y_true, is_train: True})\n\u001b[0m\u001b[0;32m      9\u001b[0m     \u001b[1;32mif\u001b[0m \u001b[1;33m(\u001b[0m\u001b[0mi\u001b[0m\u001b[1;33m+\u001b[0m\u001b[1;36m1\u001b[0m\u001b[1;33m)\u001b[0m \u001b[1;33m%\u001b[0m \u001b[0mnum_eval\u001b[0m \u001b[1;33m==\u001b[0m \u001b[1;36m0\u001b[0m\u001b[1;33m:\u001b[0m\u001b[1;33m\u001b[0m\u001b[1;33m\u001b[0m\u001b[0m\n\u001b[0;32m     10\u001b[0m         \u001b[0mstep_score\u001b[0m \u001b[1;33m=\u001b[0m \u001b[0mscore\u001b[0m\u001b[1;33m(\u001b[0m\u001b[0my_true\u001b[0m\u001b[1;33m,\u001b[0m \u001b[0my_pred\u001b[0m\u001b[1;33m)\u001b[0m\u001b[1;33m\u001b[0m\u001b[1;33m\u001b[0m\u001b[0m\n",
      "\u001b[1;32m~\\Anaconda3\\lib\\site-packages\\tensorflow\\python\\client\\session.py\u001b[0m in \u001b[0;36mrun\u001b[1;34m(self, fetches, feed_dict, options, run_metadata)\u001b[0m\n\u001b[0;32m    948\u001b[0m     \u001b[1;32mtry\u001b[0m\u001b[1;33m:\u001b[0m\u001b[1;33m\u001b[0m\u001b[1;33m\u001b[0m\u001b[0m\n\u001b[0;32m    949\u001b[0m       result = self._run(None, fetches, feed_dict, options_ptr,\n\u001b[1;32m--> 950\u001b[1;33m                          run_metadata_ptr)\n\u001b[0m\u001b[0;32m    951\u001b[0m       \u001b[1;32mif\u001b[0m \u001b[0mrun_metadata\u001b[0m\u001b[1;33m:\u001b[0m\u001b[1;33m\u001b[0m\u001b[1;33m\u001b[0m\u001b[0m\n\u001b[0;32m    952\u001b[0m         \u001b[0mproto_data\u001b[0m \u001b[1;33m=\u001b[0m \u001b[0mtf_session\u001b[0m\u001b[1;33m.\u001b[0m\u001b[0mTF_GetBuffer\u001b[0m\u001b[1;33m(\u001b[0m\u001b[0mrun_metadata_ptr\u001b[0m\u001b[1;33m)\u001b[0m\u001b[1;33m\u001b[0m\u001b[1;33m\u001b[0m\u001b[0m\n",
      "\u001b[1;32m~\\Anaconda3\\lib\\site-packages\\tensorflow\\python\\client\\session.py\u001b[0m in \u001b[0;36m_run\u001b[1;34m(self, handle, fetches, feed_dict, options, run_metadata)\u001b[0m\n\u001b[0;32m   1171\u001b[0m     \u001b[1;32mif\u001b[0m \u001b[0mfinal_fetches\u001b[0m \u001b[1;32mor\u001b[0m \u001b[0mfinal_targets\u001b[0m \u001b[1;32mor\u001b[0m \u001b[1;33m(\u001b[0m\u001b[0mhandle\u001b[0m \u001b[1;32mand\u001b[0m \u001b[0mfeed_dict_tensor\u001b[0m\u001b[1;33m)\u001b[0m\u001b[1;33m:\u001b[0m\u001b[1;33m\u001b[0m\u001b[1;33m\u001b[0m\u001b[0m\n\u001b[0;32m   1172\u001b[0m       results = self._do_run(handle, final_targets, final_fetches,\n\u001b[1;32m-> 1173\u001b[1;33m                              feed_dict_tensor, options, run_metadata)\n\u001b[0m\u001b[0;32m   1174\u001b[0m     \u001b[1;32melse\u001b[0m\u001b[1;33m:\u001b[0m\u001b[1;33m\u001b[0m\u001b[1;33m\u001b[0m\u001b[0m\n\u001b[0;32m   1175\u001b[0m       \u001b[0mresults\u001b[0m \u001b[1;33m=\u001b[0m \u001b[1;33m[\u001b[0m\u001b[1;33m]\u001b[0m\u001b[1;33m\u001b[0m\u001b[1;33m\u001b[0m\u001b[0m\n",
      "\u001b[1;32m~\\Anaconda3\\lib\\site-packages\\tensorflow\\python\\client\\session.py\u001b[0m in \u001b[0;36m_do_run\u001b[1;34m(self, handle, target_list, fetch_list, feed_dict, options, run_metadata)\u001b[0m\n\u001b[0;32m   1348\u001b[0m     \u001b[1;32mif\u001b[0m \u001b[0mhandle\u001b[0m \u001b[1;32mis\u001b[0m \u001b[1;32mNone\u001b[0m\u001b[1;33m:\u001b[0m\u001b[1;33m\u001b[0m\u001b[1;33m\u001b[0m\u001b[0m\n\u001b[0;32m   1349\u001b[0m       return self._do_call(_run_fn, feeds, fetches, targets, options,\n\u001b[1;32m-> 1350\u001b[1;33m                            run_metadata)\n\u001b[0m\u001b[0;32m   1351\u001b[0m     \u001b[1;32melse\u001b[0m\u001b[1;33m:\u001b[0m\u001b[1;33m\u001b[0m\u001b[1;33m\u001b[0m\u001b[0m\n\u001b[0;32m   1352\u001b[0m       \u001b[1;32mreturn\u001b[0m \u001b[0mself\u001b[0m\u001b[1;33m.\u001b[0m\u001b[0m_do_call\u001b[0m\u001b[1;33m(\u001b[0m\u001b[0m_prun_fn\u001b[0m\u001b[1;33m,\u001b[0m \u001b[0mhandle\u001b[0m\u001b[1;33m,\u001b[0m \u001b[0mfeeds\u001b[0m\u001b[1;33m,\u001b[0m \u001b[0mfetches\u001b[0m\u001b[1;33m)\u001b[0m\u001b[1;33m\u001b[0m\u001b[1;33m\u001b[0m\u001b[0m\n",
      "\u001b[1;32m~\\Anaconda3\\lib\\site-packages\\tensorflow\\python\\client\\session.py\u001b[0m in \u001b[0;36m_do_call\u001b[1;34m(self, fn, *args)\u001b[0m\n\u001b[0;32m   1354\u001b[0m   \u001b[1;32mdef\u001b[0m \u001b[0m_do_call\u001b[0m\u001b[1;33m(\u001b[0m\u001b[0mself\u001b[0m\u001b[1;33m,\u001b[0m \u001b[0mfn\u001b[0m\u001b[1;33m,\u001b[0m \u001b[1;33m*\u001b[0m\u001b[0margs\u001b[0m\u001b[1;33m)\u001b[0m\u001b[1;33m:\u001b[0m\u001b[1;33m\u001b[0m\u001b[1;33m\u001b[0m\u001b[0m\n\u001b[0;32m   1355\u001b[0m     \u001b[1;32mtry\u001b[0m\u001b[1;33m:\u001b[0m\u001b[1;33m\u001b[0m\u001b[1;33m\u001b[0m\u001b[0m\n\u001b[1;32m-> 1356\u001b[1;33m       \u001b[1;32mreturn\u001b[0m \u001b[0mfn\u001b[0m\u001b[1;33m(\u001b[0m\u001b[1;33m*\u001b[0m\u001b[0margs\u001b[0m\u001b[1;33m)\u001b[0m\u001b[1;33m\u001b[0m\u001b[1;33m\u001b[0m\u001b[0m\n\u001b[0m\u001b[0;32m   1357\u001b[0m     \u001b[1;32mexcept\u001b[0m \u001b[0merrors\u001b[0m\u001b[1;33m.\u001b[0m\u001b[0mOpError\u001b[0m \u001b[1;32mas\u001b[0m \u001b[0me\u001b[0m\u001b[1;33m:\u001b[0m\u001b[1;33m\u001b[0m\u001b[1;33m\u001b[0m\u001b[0m\n\u001b[0;32m   1358\u001b[0m       \u001b[0mmessage\u001b[0m \u001b[1;33m=\u001b[0m \u001b[0mcompat\u001b[0m\u001b[1;33m.\u001b[0m\u001b[0mas_text\u001b[0m\u001b[1;33m(\u001b[0m\u001b[0me\u001b[0m\u001b[1;33m.\u001b[0m\u001b[0mmessage\u001b[0m\u001b[1;33m)\u001b[0m\u001b[1;33m\u001b[0m\u001b[1;33m\u001b[0m\u001b[0m\n",
      "\u001b[1;32m~\\Anaconda3\\lib\\site-packages\\tensorflow\\python\\client\\session.py\u001b[0m in \u001b[0;36m_run_fn\u001b[1;34m(feed_dict, fetch_list, target_list, options, run_metadata)\u001b[0m\n\u001b[0;32m   1339\u001b[0m       \u001b[0mself\u001b[0m\u001b[1;33m.\u001b[0m\u001b[0m_extend_graph\u001b[0m\u001b[1;33m(\u001b[0m\u001b[1;33m)\u001b[0m\u001b[1;33m\u001b[0m\u001b[1;33m\u001b[0m\u001b[0m\n\u001b[0;32m   1340\u001b[0m       return self._call_tf_sessionrun(\n\u001b[1;32m-> 1341\u001b[1;33m           options, feed_dict, fetch_list, target_list, run_metadata)\n\u001b[0m\u001b[0;32m   1342\u001b[0m \u001b[1;33m\u001b[0m\u001b[0m\n\u001b[0;32m   1343\u001b[0m     \u001b[1;32mdef\u001b[0m \u001b[0m_prun_fn\u001b[0m\u001b[1;33m(\u001b[0m\u001b[0mhandle\u001b[0m\u001b[1;33m,\u001b[0m \u001b[0mfeed_dict\u001b[0m\u001b[1;33m,\u001b[0m \u001b[0mfetch_list\u001b[0m\u001b[1;33m)\u001b[0m\u001b[1;33m:\u001b[0m\u001b[1;33m\u001b[0m\u001b[1;33m\u001b[0m\u001b[0m\n",
      "\u001b[1;32m~\\Anaconda3\\lib\\site-packages\\tensorflow\\python\\client\\session.py\u001b[0m in \u001b[0;36m_call_tf_sessionrun\u001b[1;34m(self, options, feed_dict, fetch_list, target_list, run_metadata)\u001b[0m\n\u001b[0;32m   1427\u001b[0m     return tf_session.TF_SessionRun_wrapper(\n\u001b[0;32m   1428\u001b[0m         \u001b[0mself\u001b[0m\u001b[1;33m.\u001b[0m\u001b[0m_session\u001b[0m\u001b[1;33m,\u001b[0m \u001b[0moptions\u001b[0m\u001b[1;33m,\u001b[0m \u001b[0mfeed_dict\u001b[0m\u001b[1;33m,\u001b[0m \u001b[0mfetch_list\u001b[0m\u001b[1;33m,\u001b[0m \u001b[0mtarget_list\u001b[0m\u001b[1;33m,\u001b[0m\u001b[1;33m\u001b[0m\u001b[1;33m\u001b[0m\u001b[0m\n\u001b[1;32m-> 1429\u001b[1;33m         run_metadata)\n\u001b[0m\u001b[0;32m   1430\u001b[0m \u001b[1;33m\u001b[0m\u001b[0m\n\u001b[0;32m   1431\u001b[0m   \u001b[1;32mdef\u001b[0m \u001b[0m_call_tf_sessionprun\u001b[0m\u001b[1;33m(\u001b[0m\u001b[0mself\u001b[0m\u001b[1;33m,\u001b[0m \u001b[0mhandle\u001b[0m\u001b[1;33m,\u001b[0m \u001b[0mfeed_dict\u001b[0m\u001b[1;33m,\u001b[0m \u001b[0mfetch_list\u001b[0m\u001b[1;33m)\u001b[0m\u001b[1;33m:\u001b[0m\u001b[1;33m\u001b[0m\u001b[1;33m\u001b[0m\u001b[0m\n",
      "\u001b[1;31mKeyboardInterrupt\u001b[0m: "
     ]
    }
   ],
   "source": [
    "curr_epoch = 1\n",
    "best_score = 0\n",
    "curr_score = 0\n",
    "# Start training loop\n",
    "for i in range(num_steps):\n",
    "    X_true, y_true = train_set.next_batch(batch_size, shuffle=True)\n",
    "    _, loss, y_pred = sess.run([train_op, total_loss, pred_y],\n",
    "                              feed_dict={X:X_true, y: y_true, is_train: True})\n",
    "    if (i+1) % num_eval == 0:\n",
    "        step_score = score(y_true, y_pred)\n",
    "        eval_y_pred = predict(sess, val_set)\n",
    "        eval_score = score(val_set.labels, eval_y_pred)\n",
    "        print('[epoch {}]\\tloss: {:.6f} |Train score: {:.6f} |Eval score: {:.6f}'\n",
    "      .format(curr_epoch, loss, step_score, eval_score))\n",
    "        curr_score = eval_score\n",
    "\n",
    "    if curr_score > best_score + eps:\n",
    "        best_score = curr_score\n",
    "        saver.save(sess, './yolov2.ckpt')\n",
    "        \n",
    "    if (i+1) % num_steps_per_epoch == 0:\n",
    "        curr_epoch += 1"
   ]
  },
  {
   "cell_type": "markdown",
   "metadata": {},
   "source": [
    "## Test image and draw bboxes"
   ]
  },
  {
   "cell_type": "code",
   "execution_count": 26,
   "metadata": {
    "scrolled": false
   },
   "outputs": [],
   "source": [
    "from utils.visualization import draw_pred_boxes\n",
    "import numpy as np"
   ]
  },
  {
   "cell_type": "code",
   "execution_count": 27,
   "metadata": {},
   "outputs": [
    {
     "name": "stdout",
     "output_type": "stream",
     "text": [
      "WARNING:tensorflow:From C:\\Users\\COM\\Anaconda3\\lib\\site-packages\\tensorflow\\python\\training\\saver.py:1276: checkpoint_exists (from tensorflow.python.training.checkpoint_management) is deprecated and will be removed in a future version.\n",
      "Instructions for updating:\n",
      "Use standard file APIs to check for files with this prefix.\n",
      "INFO:tensorflow:Restoring parameters from ./yolov2.ckpt\n"
     ]
    }
   ],
   "source": [
    "saver.restore(sess, './yolov2.ckpt')"
   ]
  },
  {
   "cell_type": "code",
   "execution_count": 66,
   "metadata": {},
   "outputs": [
    {
     "name": "stdout",
     "output_type": "stream",
     "text": [
      "Test performance: 0.8296943231441049\n"
     ]
    }
   ],
   "source": [
    "test_y_pred = predict(sess, test_set)\n",
    "test_score = score(test_set.labels, test_y_pred)\n",
    "\n",
    "print('Test performance: {}'.format(test_score))"
   ]
  },
  {
   "cell_type": "code",
   "execution_count": 100,
   "metadata": {},
   "outputs": [],
   "source": [
    "r_idx = np.random.choice(test_set.num_examples, 1)\n",
    "test_images = test_set.images[r_idx]\n",
    "test_pred_y = sess.run(pred_y, feed_dict={X: test_images, is_train: False})"
   ]
  },
  {
   "cell_type": "code",
   "execution_count": 101,
   "metadata": {},
   "outputs": [],
   "source": [
    "bboxes = predict_nms_boxes(test_pred_y[0], conf_thres=0.5, iou_thres=0.5)\n",
    "bboxes = bboxes[np.nonzero(np.any(bboxes > 0, axis=1))]\n",
    "boxed_img = draw_pred_boxes(test_images[0], bboxes, class_map)"
   ]
  },
  {
   "cell_type": "code",
   "execution_count": 102,
   "metadata": {},
   "outputs": [
    {
     "data": {
      "text/plain": [
       "<matplotlib.image.AxesImage at 0x2d810400>"
      ]
     },
     "execution_count": 102,
     "metadata": {},
     "output_type": "execute_result"
    },
    {
     "data": {
      "image/png": "[encoded data removed]",
      "text/plain": [
       "<matplotlib.figure.Figure at 0x2d0eb0b8>"
      ]
     },
     "metadata": {},
     "output_type": "display_data"
    }
   ],
   "source": [
    "plt.axis(\"off\")\n",
    "imshow(cv2.cvtColor(boxed_img, cv2.COLOR_BGR2RGB)/255)"
   ]
  },
  {
   "cell_type": "code",
   "execution_count": 93,
   "metadata": {},
   "outputs": [],
   "source": [
    "sess.close()"
   ]
  },
  {
   "cell_type": "code",
   "execution_count": 46,
   "metadata": {},
   "outputs": [
    {
     "ename": "NameError",
     "evalue": "name 'dataset' is not defined",
     "output_type": "error",
     "traceback": [
      "\u001b[1;31m---------------------------------------------------------------------------\u001b[0m",
      "\u001b[1;31mNameError\u001b[0m                                 Traceback (most recent call last)",
      "\u001b[1;32m<ipython-input-46-3da0eae3c318>\u001b[0m in \u001b[0;36m<module>\u001b[1;34m()\u001b[0m\n\u001b[0;32m      6\u001b[0m \u001b[1;33m\u001b[0m\u001b[0m\n\u001b[0;32m      7\u001b[0m \u001b[1;31m# 테스트 데이터셋을 로드함\u001b[0m\u001b[1;33m\u001b[0m\u001b[1;33m\u001b[0m\u001b[1;33m\u001b[0m\u001b[0m\n\u001b[1;32m----> 8\u001b[1;33m \u001b[0mX_test\u001b[0m\u001b[1;33m,\u001b[0m \u001b[0my_test\u001b[0m \u001b[1;33m=\u001b[0m \u001b[0mdataset\u001b[0m\u001b[1;33m.\u001b[0m\u001b[0mread_data\u001b[0m\u001b[1;33m(\u001b[0m\u001b[0mtest_dir\u001b[0m\u001b[1;33m,\u001b[0m \u001b[0mIM_SIZE\u001b[0m\u001b[1;33m)\u001b[0m\u001b[1;33m\u001b[0m\u001b[1;33m\u001b[0m\u001b[0m\n\u001b[0m\u001b[0;32m      9\u001b[0m \u001b[0mtest_set\u001b[0m \u001b[1;33m=\u001b[0m \u001b[0mdataset\u001b[0m\u001b[1;33m.\u001b[0m\u001b[0mDataSet\u001b[0m\u001b[1;33m(\u001b[0m\u001b[0mX_test\u001b[0m\u001b[1;33m,\u001b[0m \u001b[0my_test\u001b[0m\u001b[1;33m)\u001b[0m\u001b[1;33m\u001b[0m\u001b[1;33m\u001b[0m\u001b[0m\n\u001b[0;32m     10\u001b[0m \u001b[1;33m\u001b[0m\u001b[0m\n",
      "\u001b[1;31mNameError\u001b[0m: name 'dataset' is not defined"
     ]
    }
   ],
   "source": [
    "\"\"\" 1. 원본 데이터셋을 메모리에 로드함 \"\"\"\n",
    "root_dir = os.path.join('data/face')\n",
    "test_dir = os.path.join(root_dir, 'test')\n",
    "IM_SIZE = (416, 416)\n",
    "NUM_CLASSES = 1\n",
    "\n",
    "# 테스트 데이터셋을 로드함\n",
    "X_test, y_test = dataset.read_data(test_dir, IM_SIZE)\n",
    "test_set = dataset.DataSet(X_test, y_test)\n",
    "\n",
    "\"\"\" 2. 테스트를 위한 하이퍼파라미터 설정 \"\"\"\n",
    "anchors = dataset.load_json(os.path.join(test_dir, 'anchors.json'))\n",
    "class_map = dataset.load_json(os.path.join(test_dir, 'classes.json'))\n",
    "nms_flag = True\n",
    "hp_d = dict()\n",
    "\n",
    "# FIXME\n",
    "hp_d['batch_size'] = 16\n",
    "hp_d['nms_flag'] = nms_flag\n",
    "\n",
    "\"\"\" 3. Graph 생성, 파라미터 로드, session 초기화 및 테스트 시작 \"\"\"\n",
    "# 초기화\n",
    "graph = tf.get_default_graph()\n",
    "config = tf.ConfigProto()\n",
    "config.gpu_options.allow_growth = True\n",
    "\n",
    "model = ConvNet([IM_SIZE[0], IM_SIZE[1], 3], NUM_CLASSES, anchors, grid_size=(IM_SIZE[0]//32, IM_SIZE[1]//32))\n",
    "evaluator = Evaluator()\n",
    "saver = tf.train.Saver()\n",
    "\n",
    "sess = tf.Session(graph=graph, config=config)\n",
    "saver.restore(sess, '/tmp/model.ckpt')\n",
    "test_y_pred = model.predict(sess, test_set, **hp_d)\n",
    "test_score = evaluator.score(test_set.labels, test_y_pred)\n",
    "\n",
    "print('Test performance: {}'.format(test_score))\n",
    "\n",
    "\"\"\" 4. 이미지에 바운딩 박스 그리기 시작 \"\"\"\n",
    "draw_dir = os.path.join(test_dir, 'draws') # FIXME\n",
    "im_dir = os.path.join(test_dir, 'images') # FIXME\n",
    "im_paths = []\n",
    "im_paths.extend(glob.glob(os.path.join(im_dir, '*.jpg')))\n",
    "for idx, (img, y_pred, im_path) in enumerate(zip(test_set.images, test_y_pred, im_paths)):\n",
    "    name = im_path.split('/')[-1]\n",
    "    draw_path =os.path.join(draw_dir, name)\n",
    "    if nms_flag:\n",
    "        bboxes = predict_nms_boxes(y_pred, conf_thres=0.5, iou_thres=0.5)\n",
    "    else:\n",
    "        bboxes = convert_boxes(y_pred)\n",
    "    bboxes = bboxes[np.nonzero(np.any(bboxes > 0, axis=1))]\n",
    "    boxed_img = draw_pred_boxes(img, bboxes, class_map)\n",
    "    cv2.imwrite(draw_path, boxed_img)"
   ]
  },
  {
   "cell_type": "code",
   "execution_count": null,
   "metadata": {},
   "outputs": [],
   "source": []
  }
 ],
 "metadata": {
  "kernelspec": {
   "display_name": "Python 3",
   "language": "python",
   "name": "python3"
  },
  "language_info": {
   "codemirror_mode": {
    "name": "ipython",
    "version": 3
   },
   "file_extension": ".py",
   "mimetype": "text/x-python",
   "name": "python",
   "nbconvert_exporter": "python",
   "pygments_lexer": "ipython3",
   "version": "3.6.9"
  }
 },
 "nbformat": 4,
 "nbformat_minor": 2
}
